{
 "cells": [
  {
   "cell_type": "markdown",
   "metadata": {},
   "source": [
    "## Домашнее задание №2 (курс \"Практикум по программированию на языке Python\")"
   ]
  },
  {
   "cell_type": "markdown",
   "metadata": {},
   "source": [
    "### Тема: Объектно-ориентированное программирование на языке Python\n",
    "\n",
    "#### Преподаватель: Мурат Апишев (mel-lain@yandex.ru)\n",
    "\n",
    "**Выдана**:   11 марта 2023\n",
    "\n",
    "**Дедлайн**:   21:00 26 марта 2023\n",
    "\n",
    "**Среда выполнения**: Jupyter Notebook (Python 3.7)\n",
    "\n",
    "#### Правила:\n",
    "\n",
    "Результат выполнения задания - Jupyter Notebook с кодом и подробными ответами в случае теоретических вопросов. __Максимальное число баллов за задание - 20__.\n",
    "\n",
    "Все ячейки должны быть \"выполненными\", при этом результат должен воспроизводиться при проверке (на Python 3.7). Если какой-то код не был запущен или отрабатывает с ошибками, то пункт не засчитывается. Задание, сданное после дедлайна, _не принимается_. Можно отправить недоделанное задание, выполненные пункты будут оценены.\n",
    "\n",
    "Готовое задание отправляется на почту преподавателя.\n",
    "\n",
    "Задание выполняется самостоятельно. Если какие-то студенты будут уличены в списывании, все они автоматически получат за эту работу 0 баллов. Если вы нашли в Интернете какой-то специфичный код, который собираетесь заимствовать, обязательно укажите это в задании - наверняка вы не единственный, кто найдёт и использует эту информацию.\n",
    "\n",
    "Удалять фрагменты формулировок заданий запрещается."
   ]
  },
  {
   "cell_type": "markdown",
   "metadata": {},
   "source": [
    "#### Постановка задачи:\n",
    "\n",
    "- В данной работе нужно\n",
    "    - ответить на ряд теоретических вопросов;\n",
    "    - решить набор задач, проверяющих владение ООП-инструментами языка;\n",
    "    - решить задачу на проектирование кода.\n",
    "- Ответы на теоретические вопросы должны быть полными и обоснованными.\n",
    "- Каждая задача представляет собой написание функции или класса, а также набора тестов, проверяющих работу решения в общих и крайних случаях.\n",
    "- Отсутствие тестов автоматически уменьшает количество баллов за задание как минимум в два раза, некачественные тесты также будут штрафоваться.\n",
    "- Даже если это не указано явно в требованиях, код должен быть по возможности неизбыточным, работать с разумной сложностью и объёмом потребялемой памяти, проверяющие могут снизить балл за задание, выполненное без учёта этого требования.\n",
    "- Результирующий код должен быть читаемым, с единой системой отступов и адеквантными названиями переменных, проверяющие могут снизить балл за задание, выполненное без учёта этого требования."
   ]
  },
  {
   "attachments": {},
   "cell_type": "markdown",
   "metadata": {},
   "source": [
    "Прогресс бар:\n",
    "1. 0.6\n",
    "2. 0.5\n",
    "3. 0\n",
    "4. 0\n",
    "5. 0\n",
    "6. 0\n",
    "7. 0"
   ]
  },
  {
   "cell_type": "markdown",
   "metadata": {},
   "source": [
    "__Задание 1 (2 балла):__ Дайте подробные ответы на следующие вопросы:\n",
    "\n",
    "1. В чём смысл инкапсуляции? Приведите пример конкретной ситуации в коде, в которой нарушение инкапсуляции приводит к проблемам.\n",
    "2. Какой метод называется статическим? Что такое параметр `self`?\n",
    "3. В чём отличия методов `__new__` и `__init__`?\n",
    "4. Какие виды отношений классов вы знаете? Для каждого приведите примеры. Укажите взаимные различия.\n",
    "5. Зачем нужны фабрики? Опишите смысл использования фабричного метода, фабрики и абстрактной фабрики, а также их взаимные отличия."
   ]
  },
  {
   "attachments": {},
   "cell_type": "markdown",
   "metadata": {},
   "source": [
    "1. Смысл инкапсуляции в том, чтобы ограничить доступ к некоторым переменным и методаам классам и предоставлять их только через методы этого класса, а не напрямую. Например, разработчик написал библиотеку с классом, в которой есть метод `do_something()`, а также есть нескрытый метод `help_for_do_something()`, но разработчик это не сделал, и пользователь использует `help_for_do_something()`, потому что ему полный функционал не нужен/или он ему так удобнее и т.д. В следующем обновлении разработчик понял, что он вообще все неправильно делает, придуман новый алгоритм или вышел новый стандарт c++, в котором есть умные указатели и т.п. Как ответственный гражданин он оставляет функцию `do_something()`, как и параметры, которые она получает и вовзращает, без изменений, чтобы его пользователи обладали обратной совместимостью, а в `help_for_do_something()` теперь  реализует совсем другое, и теперь пользователю, который использовал `help_for_do_something()` нужно переписывать свой проект, если он хочет использовать новую версию библиотеки, если бы была инкапсуляция, то доступ к `help_for_do_something()` он не получил бы и переписывать ему ничего не пришлось бы. Или если это сервер, то некоторые пользователи могут изменить например, счетчик в этом классе руками `i = i + 1`, а в это время другой пользователь сделает тоже самое, и в итоге, если `i = 0`, он станет равным 1, а не 2. А если бы они использовали метод для увеличения счетчика, то этого бы не случилось.\n",
    "\n",
    "2. Это метод класса, который на вход не получает параметра self, например `__new__`. Параметр self это как this в C++, а это когда в Си делали ООП передавая в функцию, указатель `*this` на класс, чтобы получить по сути класс, а потом классы реализовали в C++ и параметр `*this` оставили, только теперь он передается неявно, а в python он передается явно, хотя при вызове функции его указывать не надо.\n",
    "\n",
    "3. Метод `__new__` создает новый объект, метод `__init__` ничего не создает, он получает на вход уже готовый объект, в котором инициализирует его атрибуты.\n",
    "\n",
    "4. 1. Наследование, есть родительский класс, есть дочерний класс. Дочерний класс наследует функции родительского. Например машина это родительский класс, у неё есть функции ехать, стоять, бипикать. Дочерний класс наследует эти функции, но уже в зависимости того, какая эта машина электрическая или с двигателем внутреннего сгорания будет зависеть реализация того, как она будет ехать, стоять или бипикать.\n",
    "\n",
    "   2. Хаха\n",
    "\n",
    "5. Фабрики - рабочим, капиталистам - смерть."
   ]
  },
  {
   "cell_type": "markdown",
   "metadata": {},
   "source": [
    "__Задание 2 (1 балл):__ Опишите класс комплексных чисел. У пользователя должна быть возможность создать его объект на основе числа и в алгебраической форме, и в полярной. Класс должен поддерживать основные математические операции (+, -, \\*, /) за счет перегрузки соответствующих магических методов. Также он должен поддерживать возможность получить число в алгебраической и полярной форме. Допускается использование модуля `math`."
   ]
  },
  {
   "cell_type": "code",
   "execution_count": 1,
   "metadata": {},
   "outputs": [],
   "source": [
    "import math"
   ]
  },
  {
   "cell_type": "code",
   "execution_count": 113,
   "metadata": {},
   "outputs": [],
   "source": [
    "class ComplexNumber:\n",
    "    def __init__(self, real : float | int=None , complex : float | int=None, \n",
    "                 radius : float | int=None, phi : float | int=None, \n",
    "                 number:ComplexNumber = None) -> None:\n",
    "        \n",
    "        if (not real is None) and (not complex is None):\n",
    "            self._real     = real\n",
    "            self._complex  = complex\n",
    "            self.__init_polar()\n",
    "        elif not (radius is None) and not (phi is None):\n",
    "            self._radius   = radius\n",
    "            self._phi      = phi\n",
    "            self.__init_algebra()\n",
    "        elif not (number is None):\n",
    "            self._radius   = number.get_radius()\n",
    "            self._phi      = number.get_phi()\n",
    "            self._real     = number.get_real()\n",
    "            self._complex  = number.get_complex()\n",
    "        else: print(\"FIX IT future update...\")\n",
    "        return \n",
    "    \n",
    "    def get_real(self) -> float:     return self._real\n",
    "    def get_complex(self) -> float:  return self._complex\n",
    "    def get_radius(self) -> float:   return self._radius\n",
    "    def get_phi(self) -> float:      return self._phi\n",
    "\n",
    "    def __abs__(self) -> float: return self._radius\n",
    "\n",
    "    def __neg__(self) -> 'ComplexNumber':\n",
    "        self._complex = -self._complex\n",
    "        self._real = -self._real\n",
    "        self.__init_polar()\n",
    "        return self\n",
    "    def __pos__(self) -> 'ComplexNumber': return self\n",
    "    \n",
    "    def __str__(self) -> str:\n",
    "        real = round(self._real, 6)\n",
    "        complex = round(self._complex, 6)\n",
    "        if self._complex < 0 :\n",
    "            return f\"({real}-{-complex}i)\"\n",
    "        return f\"({real}+{complex}i)\"\n",
    "    \n",
    "    def __init_algebra(self) -> None:\n",
    "        self._real     = self._radius * math.cos(self._phi)\n",
    "        self._complex  = self._radius * math.sin(self._phi)\n",
    "        return \n",
    "\n",
    "    def __init_polar(self) -> None:\n",
    "        self._radius   = math.sqrt(self._real ** 2 + self._complex ** 2)\n",
    "        self._phi      = math.atan2(self._complex, self._real)\n",
    "        return\n",
    "    \n",
    "    def __add__(self, other : int | float | ComplexNumber) -> ComplexNumber:\n",
    "        if isinstance(other, ComplexNumber):\n",
    "            return ComplexNumber(real=self._real + other.get_real(),complex=self._complex + other.get_complex())\n",
    "        return ComplexNumber(real=self._real+other,complex=self._complex)\n",
    "    \n",
    "    def __sub__(self, other : int | float | ComplexNumber) -> ComplexNumber:\n",
    "        if isinstance(other, ComplexNumber):\n",
    "            return ComplexNumber(real=self._real - other.get_real(),complex=self._complex - other.get_complex())\n",
    "        return ComplexNumber(real=self._real - other,complex=self._complex)\n",
    "    \n",
    "    def __mul__(self, other : int | float | ComplexNumber) -> ComplexNumber:\n",
    "        if isinstance(other, ComplexNumber):\n",
    "            return ComplexNumber(real=self._real*other.get_real() - self._complex*other.get_complex(),\n",
    "                                 complex=self._real*other.get_complex() + self._complex*other.get_real())\n",
    "        return ComplexNumber(real=self._real*other, complex=self._complex*other)\n",
    "    \n",
    "    def __div__(self, other : int | float | ComplexNumber) -> ComplexNumber:\n",
    "        if isinstance(other, ComplexNumber) and not math.isclose(other.get_radius, 0):\n",
    "            return ComplexNumber(radius=self._radius/other.get_radius, phi=self._phi - other.get_phi())\n",
    "        return ComplexNumber(real=self._real/other, complex=self._complex/other)\n",
    "\n",
    "    def __iadd__(self, other : int | float | ComplexNumber) -> None:\n",
    "        if isinstance(other, ComplexNumber):\n",
    "           self._real      += other.get_real()\n",
    "           self._complex   += other.get_complex()\n",
    "           self.__init_polar()\n",
    "        else:\n",
    "            self._real     += other\n",
    "            self.__init_polar()\n",
    "        \n",
    "        return self\n",
    "    \n",
    "    def __isub__(self, other : int | float | ComplexNumber) -> None:\n",
    "        if isinstance(other, ComplexNumber):\n",
    "            self._real      -= other.get_real()\n",
    "            self._complex   -= other.get_complex()\n",
    "            self.__init_polar()\n",
    "        else:\n",
    "            self._real     -= other\n",
    "            self.__init_polar()\n",
    "        \n",
    "        return self\n",
    "    \n",
    "    def __imul__(self, other : int | float | ComplexNumber) -> None:\n",
    "        if isinstance(other, ComplexNumber):\n",
    "            self._real     = self._real*other.get_real() - self._complex*other.get_complex()\n",
    "            self._complex  = self._real*other.get_complex() + self._complex*other.get_real()\n",
    "            self.__init_polar()\n",
    "        else:\n",
    "            self._real     *= other\n",
    "            self._complex  *= other\n",
    "            self.__init_polar()\n",
    "        return self\n",
    "    \n",
    "    def __itruediv__(self, other : int | float | ComplexNumber) -> None:\n",
    "        if isinstance(other, ComplexNumber):\n",
    "            self._radius   /= other.get_radius()\n",
    "            self._phi      -= other.get_phi()\n",
    "            self.__init_algebra()\n",
    "        else:\n",
    "            self._radius   /= other\n",
    "            self.__init_algebra()\n",
    "        return self"
   ]
  },
  {
   "cell_type": "code",
   "execution_count": 115,
   "metadata": {},
   "outputs": [
    {
     "name": "stdout",
     "output_type": "stream",
     "text": [
      "FIX IT future update...\n",
      "(1+2i)\n",
      "(33.0+33.666667i)\n"
     ]
    }
   ],
   "source": [
    "a = ComplexNumber(real=100, complex=1)\n",
    "e = ComplexNumber(1, 2)\n",
    "b = ComplexNumber(radius=math.sqrt(2), phi=math.pi/4)\n",
    "r = ComplexNumber(a)\n",
    "print(e)\n",
    "c = a * b\n",
    "c /= 3\n",
    "print(c)\n",
    "\n",
    "### И ТУТ ЕЩЁ МИЛЛИАРД ТЕСТОВ"
   ]
  },
  {
   "cell_type": "markdown",
   "metadata": {},
   "source": [
    "__Задание 3 (2 балла):__ Опишите класс для векторов в N-мерном пространстве. В качестве основы  используйте список значений координат вектора, задаваемый `list`. Обеспечьте поддержку следующих операций: сложение, вычитание (с созданием нового вектора-результата), скалярное произведение, косинус угла, евклидова норма. Все операции, которые можно перегрузить с помощью магических методов, должны быть реализованы именно через них. Класс должен производить проверку консистентности аргументов для каждой операции и в случаях ошибок выбрасывать исключение `ValueError` с исчерпывающим объяснением ошибки."
   ]
  },
  {
   "attachments": {},
   "cell_type": "markdown",
   "metadata": {},
   "source": [
    "1. Сложение +\n",
    "2. Вычитание +\n",
    "3. Скалярное произведение +\n",
    "4. Косинус угла +\n",
    "5. Евклидоав норма +\n",
    "6. Проверка на ValueError +\n"
   ]
  },
  {
   "cell_type": "code",
   "execution_count": 121,
   "metadata": {},
   "outputs": [],
   "source": [
    "class Vector:\n",
    "    def __init__(self, vector_values_list : list):\n",
    "        self.__coordinates  = vector_values_list.copy\n",
    "        self.__dimension    = len(vector_values_list)\n",
    "        return \n",
    "    \n",
    "    def __add__(self, other : Vector) -> Vector:\n",
    "        if other.get_dimension() == self.__dimension:\n",
    "            new_coordinates = list(map(sum, zip(self.__coordinates, other.get_coordinates())))\n",
    "            return Vector(new_coordinates)\n",
    "        raise ValueError(f'vectors have differenet dimensions: {self.__dimension} and {other.get_dimension()}')\n",
    "        \n",
    "    def __sub__(self, other : Vector) -> Vector:\n",
    "        if other.get_dimension() == self.__dimension:\n",
    "            new_coordinates = list(map(lambda x: x[0]-x[1], zip(self.__coordinates, other.get_coordinates())))\n",
    "            return Vector(new_coordinates)\n",
    "        raise ValueError(f'vectors have differenet dimensions: {self.__dimension} and {other.get_dimension()}')\n",
    "    \n",
    "    def __matmul__(self, other : Vector) -> float:\n",
    "        if other.get_dimension() == self.__dimension:\n",
    "            return sum(map(lambda x: x[0]*x[1], zip(self.__coordinates, other.get_coordinates())))\n",
    "        raise ValueError(f'vectors have differenet dimensions: {self.__dimension} and {other.get_dimension()}')\n",
    "    \n",
    "    def dot_product(self, other : Vector) -> float:\n",
    "        if other.get_dimension() == self.__dimension:\n",
    "            return sum(map(lambda x: x[0]*x[1], zip(self.__coordinates, other.get_coordinates())))\n",
    "        raise ValueError(f'vectors have differenet dimensions: {self.__dimension} and {other.get_dimension()}')\n",
    "    \n",
    "    def norm(self) -> float:\n",
    "        return math.sqrt(sum(map(lambda x: x ** 2, self.__coordinates)))\n",
    "    \n",
    "    def cos(self, other : Vector) -> float:\n",
    "        if other.get_dimension() == self.__dimension:\n",
    "            return self.dot_product(other)/(self.norm() *other.norm())\n",
    "        raise ValueError(f'vectors have differenet dimensions: {self.__dimension} and {other.get_dimension()}')\n",
    "\n",
    "    def get_coordinates(self): return self.__coordinates\n",
    "    def get_dimension(self): return len(self.__coordinates)\n",
    "    \n",
    "    \n"
   ]
  },
  {
   "cell_type": "markdown",
   "metadata": {},
   "source": [
    "__Задание 4 (2 балл):__ Опишите декоратор, который принимает на вход функцию и при каждом её вызове печатает строку \"This function was called N times\", где N - число раз, которое это функция была вызвана на текущий момент (пока функция существует как объект, это число, очевидно, может только неубывать)."
   ]
  },
  {
   "cell_type": "code",
   "execution_count": null,
   "metadata": {},
   "outputs": [],
   "source": [
    "def calls_counter(func):\n",
    "    pass"
   ]
  },
  {
   "cell_type": "markdown",
   "metadata": {},
   "source": [
    "__Задание 5 (3 балла):__ Опишите декоратор класса, который принимает на вход другой класс и снабжает декорируемый класс всеми атрибутами входного класса, названия которых НЕ начинаются с \"\\_\". В случае конфликтов имён импортируемый атрибут должен получить имя с суффиксом \"\\_new\"."
   ]
  },
  {
   "cell_type": "code",
   "execution_count": null,
   "metadata": {},
   "outputs": [],
   "source": [
    "def copy_class_attrs(cls):\n",
    "    pass"
   ]
  },
  {
   "cell_type": "markdown",
   "metadata": {},
   "source": [
    "__Задание 6 (7 баллов):__ Опишите класс для хранения двумерных числовых матриц на основе списков. Реализуйте поддержку индексирования, итерирования по столбцам и строкам, по-элементные математические операции (с помощью магических методов), операцию умножения матрицы (как метод `dot` класса), транспонирование, поиска следа матрицы, а также поиск значения её определителя, если он существует, в противном случае соответствующий метод должен выводить сообщение об ошибке и возвращать `None`.\n",
    "\n",
    "Матрицу должно быть возможным создать из списка (в этом случае у неё будет одна строка), списка списков, или же передав явно три числа: число строк, число столбцов и значение по-умолчанию (которое можно не задавать, в этом случае оно принимается равным нулю). Все операции должны проверять корректность входных данных и выбрасывать исключение с информативным сообщением в случае ошибки.\n",
    "\n",
    "Матрица должна поддерживать методы сохранения на диск в текстовом и бинарном файле и методы обратной загрузки с диска для обоих вариантов. Также она должна поддерживать метод полного копирования. Обе процедуры должны быть реализованы с помощью шаблона \"примесь\" (Mixin), т.е. указанные функциональности должны быть описаны в специализированных классах.\n",
    "\n",
    "В реализации математических операций запрещается пользоваться любыми функциями, требующими использования оператора `import`."
   ]
  },
  {
   "cell_type": "code",
   "execution_count": null,
   "metadata": {},
   "outputs": [],
   "source": [
    "class Matrix:\n",
    "    pass"
   ]
  },
  {
   "cell_type": "markdown",
   "metadata": {},
   "source": [
    "__Задание 7 (3 балла):__ Ставится задача расчета стоимости чашки кофе. Опишите классы нескольких типов кофе (латте, капучино, американо), а также классы добавок к кофе (сахар, сливки, кардамон, пенка, сироп). Используйте шаблон \"декоратор\". Каждый класс должен характеризоваться методом вычисления стоимости чашки `calculate_cost`. Пользователь должен иметь возможность комбинировать любое число добавок с выбранным кофе и получить на выходе общую стоимость:\n",
    "\n",
    "```\n",
    "Cream(Sugar(Latte())).calculate_cost()\n",
    "```\n",
    "\n",
    "Первым элементом чашки всегда должен быть сам кофе, а не добавка, в противном случае при попытке создания чашки должно выбрасываться исключение:\n",
    "\n",
    "```\n",
    "Cream(Latte(Sugar())).calculate_cost() -> exception\n",
    "```\n",
    "\n",
    "Кофе может встречаться в чашке только один раз, в противном случае при попытке создания чашки должно выбрасываться исключение:\n",
    "\n",
    "```\n",
    "Cappuccino(Sugar(Latte())).calculate_cost() -> exception\n",
    "```\n",
    "\n",
    "Добавки могут включаться в чашку в любом количестве и порядке.\n",
    "Добавление новых типов кофе и добавок не должно требовать изменения существующего кода."
   ]
  }
 ],
 "metadata": {
  "kernelspec": {
   "display_name": "Python 3",
   "language": "python",
   "name": "python3"
  },
  "language_info": {
   "codemirror_mode": {
    "name": "ipython",
    "version": 3
   },
   "file_extension": ".py",
   "mimetype": "text/x-python",
   "name": "python",
   "nbconvert_exporter": "python",
   "pygments_lexer": "ipython3",
   "version": "3.10.9"
  }
 },
 "nbformat": 4,
 "nbformat_minor": 2
}
