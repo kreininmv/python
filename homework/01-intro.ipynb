{
 "cells": [
  {
   "cell_type": "markdown",
   "metadata": {},
   "source": [
    "## Домашнее задание №1 (курс \"Практикум по программированию на языке Python\")"
   ]
  },
  {
   "attachments": {},
   "cell_type": "markdown",
   "metadata": {},
   "source": [
    "### Выполнил: <font color='red'>Крейнин Матвей Вадимович, МФТИ, ФПМИ</font>\n",
    "\n",
    "### Тема: Введение в язык Python\n",
    "\n",
    "**Автор**: Мурат Апишев\n",
    "\n",
    "**Выдана**:   16 февраля 2023\n",
    "\n",
    "**Дедлайн**:  21:00 3 марта 2023\n",
    "\n",
    "**Среда выполнения**: Jupyter Notebook (Python 3.7+)\n",
    "\n",
    "#### Правила:\n",
    "\n",
    "Результат выполнения задания - Jupyter Notebook с кодом. __Максимальное число баллов за задание - 20__.\n",
    "\n",
    "Все ячейки должны быть \"выполненными\", при этом результат должен воспроизводиться при проверке (на Python 3.7). Если какой-то код не был запущен или отрабатывает с ошибками, то пункт не засчитывается. Задание, сданное после дедлайна, _не принимается_. Можно отправить недоделанное задание, выполненные пункты будут оценены.\n",
    "\n",
    "Готовое задание отправляется на почту mel-lain@yandex.ru.\n",
    "\n",
    "Задание выполняется самостоятельно. Если какие-то студенты будут уличены в списывании, все они автоматически получат за эту работу 0 баллов. Если вы нашли в Интернете какой-то специфичный код, который собираетесь заимствовать, обязательно укажите это в задании - наверняка вы не единственный, кто найдёт и использует эту информацию.\n",
    "\n",
    "__Удалять фрагменты формулировок заданий запрещается.__"
   ]
  },
  {
   "cell_type": "markdown",
   "metadata": {},
   "source": [
    "#### Постановка задачи:\n",
    "\n",
    "- В данной работе нужно решить набор задач, проверяющих владение базовыми инструментами языка.\n",
    "- Каждая задача представляет собой написание одной или более функций, а также набора тестов, проверяющих работу этой функции в общих и крайних случаях.\n",
    "- Отсутствие тестов автоматически уменьшает количество баллов за задание как минимум в два раза, некачественные тесты также будут штрафоваться.\n",
    "- Если в задании указано использовать несколько разных вариантов решения, подразумевается использование различных инструментов (циклы, списковые включения, генераторы, встроенные функции, функции модулей стандартной библотеки и т.п.), замена, например, цикла for на цикл while не является иным способом решения.\n",
    "- Даже если это не указано явно в требованиях, код должен быть по возможности неизбыточным, работать с разумной сложностью и объёмом потребялемой памяти, проверяющие могут снизить балл за задание, выполненное без учёта этого требования.\n",
    "- Результирующий код должен быть читаемым, с единой системой отступов и адеквантными названиями переменных, проверяющие могут снизить балл за задание, выполненное без учёта этого требования."
   ]
  },
  {
   "attachments": {},
   "cell_type": "markdown",
   "metadata": {},
   "source": [
    "1   - yes\n",
    "2   - yes\n",
    "3   - yes\n",
    "4   - yes\n",
    "5   - yes\n",
    "6   - yes\n",
    "7   - yes\n",
    "8   - yes\n",
    "9   - yes\n",
    "10  - yes\n",
    "11  - yes \n",
    "12  - yes\n",
    "13  - yes\n",
    "14  - NO\n",
    "15  - NO\n",
    "16  - NO\n",
    "17  - NO\n"
   ]
  },
  {
   "cell_type": "markdown",
   "metadata": {},
   "source": [
    "__Задание 1 (0.5 балла):__ Дано натуральное число. Требуется определить, является ли год с данным номером високосным. Если год является високосным, то выведите YES, иначе выведите NO. Напомним, что в соответствии с григорианским календарем, год является високосным, если его номер кратен 4, но не кратен 100, а также если он кратен 400."
   ]
  },
  {
   "cell_type": "code",
   "execution_count": 2,
   "metadata": {},
   "outputs": [],
   "source": [
    "import numpy as np"
   ]
  },
  {
   "cell_type": "code",
   "execution_count": 3,
   "metadata": {},
   "outputs": [],
   "source": [
    "def task_01_func(year):\n",
    "    if ((year % 4 == 0 and year % 100 != 0) or year % 400 == 0):\n",
    "        print(\"YES\")\n",
    "        return\n",
    "    \n",
    "    print(\"NO\")\n",
    "    return\n",
    "\n",
    "def task_01_func_test(year):\n",
    "    if ((year % 4 == 0 and year % 100 != 0) or year % 400 == 0):\n",
    "        #print(\"YES\")\n",
    "        return 1\n",
    "    \n",
    "    #print(\"NO\")\n",
    "    return 0"
   ]
  },
  {
   "cell_type": "code",
   "execution_count": 4,
   "metadata": {},
   "outputs": [
    {
     "name": "stdout",
     "output_type": "stream",
     "text": [
      "All is alright!\n"
     ]
    }
   ],
   "source": [
    "# Тесты\n",
    "years = [i for i in range(1583, 2099)]\n",
    "leap_years = [1596, 1624, 1652, 1680, 1720, 1748, 1776, 1816, 1844, 1872, 1912, 1940, 1968, 1996, 2024, 2052, 2080, 1608,\n",
    "              1636, 1664, 1692, 1704, 1732, 1760, 1788, 1828, 1856, 1884, 1924, 1952, 1980, 2008, 2036, 2064, 2092, 1592,\n",
    "              1620, 1648, 1676, 1716, 1744, 1772, 1812, 1840, 1868, 1896, 1908, 1936, 1964, 1992, 2020, 2048, 2076, 1604,\n",
    "              1632, 1660, 1688, 1728, 1756, 1784, 1824, 1852, 1880, 1920, 1948, 1976, 2004, 2032, 2060, 2088, 1588, 1616,\n",
    "              1644, 1672, 1712, 1740, 1768, 1796, 1808, 1836, 1864, 1892, 1904, 1932, 1960, 1988, 2016, 2044, 2072, 1600,\n",
    "              1628, 1656, 1684, 1724, 1752, 1780, 1820, 1848, 1876, 1916, 1944, 1972, 2000, 2028, 2056, 2084, 1584, 1612,\n",
    "              1640, 1668, 1696, 1708, 1736, 1764, 1792, 1804, 1832, 1860, 1888, 1928, 1956, 1984, 2012, 2040, 2068, 2096]\n",
    "\n",
    "leap_years.sort()\n",
    "\n",
    "dict_years = dict.fromkeys(years, 0)\n",
    "for k in range(len(leap_years)):\n",
    "    dict_years[leap_years[k]] = 1\n",
    "\n",
    "flag = 0\n",
    "for i in years:\n",
    "    if (task_01_func_test(i) != dict_years[i]):        \n",
    "        print(\"Achtung! Year: %d ;Func is given that %d, dict is given %d\" % (i, task_01_func_test(i), dict_years[i]))\n",
    "        flag = 1\n",
    "\n",
    "if (flag):\n",
    "    print(\"All tests are passed!\")\n",
    "\n",
    "generate_leap_years = []\n",
    "for i in years:\n",
    "    if (task_01_func_test(i)):\n",
    "        generate_leap_years.append(i)\n",
    "\n",
    "if (generate_leap_years == leap_years):\n",
    "    print(\"All is alright!\")"
   ]
  },
  {
   "cell_type": "markdown",
   "metadata": {},
   "source": [
    "__Задание 2 (0.5 балла):__ Дано натуральное число. Найдите число знаков в его десятичной записи. Предложите как минимум два различных решения."
   ]
  },
  {
   "cell_type": "code",
   "execution_count": 5,
   "metadata": {},
   "outputs": [],
   "source": [
    "def task_02_func_ver1(number):\n",
    "    counter = 1\n",
    "    number = number // 10\n",
    "    while (number != 0):\n",
    "        counter += 1\n",
    "        number = number // 10\n",
    "\n",
    "    return counter\n",
    "\n",
    "def task_02_func_ver2(number):\n",
    "    return len(str(number))\n",
    "\n",
    "def test_task_02(start, stop, step, num):\n",
    "    for i in range(start, stop, step):\n",
    "        if not(task_02_func_ver1(i) == task_02_func_ver2(i) == num):\n",
    "            print(\"Achtung! Num %d; Len in Ver1: %d, in Ver2: %d, In real: %d\" %(i, task_02_func_ver1(i), task_02_func_ver2(i), num))\n",
    "            return 1\n",
    "    print(\"All tests are passed!\")\n",
    "    return 0\n",
    "    "
   ]
  },
  {
   "cell_type": "code",
   "execution_count": 6,
   "metadata": {},
   "outputs": [
    {
     "name": "stdout",
     "output_type": "stream",
     "text": [
      "All tests are passed!\n",
      "All tests are passed!\n",
      "All tests are passed!\n",
      "All tests are passed!\n",
      "All tests are passed!\n",
      "All tests are passed!\n",
      "All tests are passed!\n",
      "All tests are passed!\n"
     ]
    },
    {
     "data": {
      "text/plain": [
       "0"
      ]
     },
     "execution_count": 6,
     "metadata": {},
     "output_type": "execute_result"
    }
   ],
   "source": [
    "test_task_02(0,         10,         1, 1)\n",
    "test_task_02(10,        100,        1, 2)\n",
    "test_task_02(100,       1000,       1, 3)\n",
    "test_task_02(1000,      10000,      1, 4)\n",
    "test_task_02(10000,     100000,     1, 5)\n",
    "test_task_02(100000,    1000000,    1, 6)\n",
    "test_task_02(1000000,   10000000,   1, 7)\n",
    "test_task_02(10000000,  100000000,  1, 8)"
   ]
  },
  {
   "cell_type": "markdown",
   "metadata": {},
   "source": [
    "__Задание 3 (0.5 балла):__ По данному натуральном n вычислите сумму 1!+2!+3!+...+n!. В решении этой задачи с помощью циклов можно использовать только один цикл. Предложите как минимум два различных решения."
   ]
  },
  {
   "cell_type": "code",
   "execution_count": 7,
   "metadata": {
    "collapsed": true
   },
   "outputs": [],
   "source": [
    "def task_03_func_ver1(n):\n",
    "    sum = 0\n",
    "    tmp = 1\n",
    "    for i in range(1, n+1):\n",
    "        tmp = tmp * i\n",
    "        sum = sum + tmp\n",
    "    return sum\n",
    "\n",
    "\n",
    "def help_03_func(k, n, fact, sum):\n",
    "    if (k == n):\n",
    "        return sum\n",
    "    return help_03_func(k + 1, n, fact * (k + 1), sum + fact * (k + 1))\n",
    "\n",
    "def task_03_func_ver2(n):\n",
    "    return help_03_func(1, n, 1, 1)"
   ]
  },
  {
   "cell_type": "code",
   "execution_count": 8,
   "metadata": {},
   "outputs": [
    {
     "name": "stdout",
     "output_type": "stream",
     "text": [
      "153\n",
      "153\n"
     ]
    }
   ],
   "source": [
    "print(task_03_func_ver1(5))\n",
    "print(task_03_func_ver2(5))"
   ]
  },
  {
   "cell_type": "markdown",
   "metadata": {},
   "source": [
    "__Задание 4 (0.5 балла):__ Определить, является ли введённая строка палиндромом (то есть одинаково читается с обеих сторон). Предложите как минимум три различных решения."
   ]
  },
  {
   "cell_type": "code",
   "execution_count": 9,
   "metadata": {
    "collapsed": true
   },
   "outputs": [],
   "source": [
    "def task_04_func_ver1(s):\n",
    "    for i in range(len(s)):\n",
    "        if (s[i] != s[len(s) - (i + 1)]):\n",
    "            return 0\n",
    "    return 1\n",
    "\n",
    "def task_04_func_ver2(s):\n",
    "    if (s[:] != s[::-1]):\n",
    "        return 0\n",
    "    return 1\n",
    "\n",
    "def task_04_func_ver3(s):\n",
    "    if (s != ''.join(reversed(s))):\n",
    "        return 0\n",
    "    return 1"
   ]
  },
  {
   "cell_type": "code",
   "execution_count": 10,
   "metadata": {},
   "outputs": [
    {
     "name": "stdout",
     "output_type": "stream",
     "text": [
      "True\n",
      "True\n",
      "True\n",
      "True\n"
     ]
    }
   ],
   "source": [
    "str = \"abcdcba\"\n",
    "print(task_04_func_ver1(str) == task_04_func_ver2(str) == task_04_func_ver3(str)  == 1)\n",
    "str = \"abccba\"\n",
    "print(task_04_func_ver1(str) == task_04_func_ver2(str) == task_04_func_ver3(str)  == 1)\n",
    "str = \"abdcba\"\n",
    "print(task_04_func_ver1(str) == task_04_func_ver2(str) == task_04_func_ver3(str)  == 0)\n",
    "str = \"a\"\n",
    "print(task_04_func_ver1(str) == task_04_func_ver2(str) == task_04_func_ver3(str)  == 1)"
   ]
  },
  {
   "cell_type": "markdown",
   "metadata": {},
   "source": [
    "__Задание 5 (1 балл):__ Дан текст в виде строки. Напишите функцию, которая возвращает словарь, где ключами являются уникальные слова из этого текста, а значениями - число раз, которое данное слово встретилось в тексте. Считать, что слова разделяются пробелами. Предложите как минимум два различных решения."
   ]
  },
  {
   "cell_type": "code",
   "execution_count": 11,
   "metadata": {
    "collapsed": true
   },
   "outputs": [],
   "source": [
    "def task_05_func_ver1(text):\n",
    "    arr = text.split(' ')\n",
    "    \n",
    "    dictionary = {}\n",
    "\n",
    "    for word in arr:\n",
    "        key = dictionary.get(word)\n",
    "        if (key is None):\n",
    "            dictionary[word] = 1\n",
    "        else:\n",
    "            dictionary[word] = key + 1\n",
    "    \n",
    "    return dictionary\n",
    "\n",
    "def task_05_func_ver2(text):\n",
    "    k = 0\n",
    "    start = 0\n",
    "    dictionary = {}\n",
    "\n",
    "    while (len(text) > k):\n",
    "        if (text[k] == \" \"):\n",
    "            k += 1\n",
    "            continue\n",
    "        elif (text[k] != \" \" and start == 0):\n",
    "            word = ''\n",
    "            while (len(text) > k and text[k] != \" \"):\n",
    "                word = word + text[k]\n",
    "                k += 1\n",
    "            key = dictionary.get(word)\n",
    "            if (key is None):\n",
    "                dictionary[word] = 1\n",
    "            else:\n",
    "                dictionary[word] = key + 1\n",
    "\n",
    "    return dictionary"
   ]
  },
  {
   "cell_type": "code",
   "execution_count": 12,
   "metadata": {},
   "outputs": [
    {
     "name": "stdout",
     "output_type": "stream",
     "text": [
      "{'a,': 1, 'a': 1, 'b': 2, 'aa': 2, 'abc': 1, 'ddd': 3, 'abcd': 1}\n",
      "{'a,': 1, 'a': 1, 'b': 2, 'aa': 2, 'abc': 1, 'ddd': 3, 'abcd': 1}\n"
     ]
    }
   ],
   "source": [
    "print(task_05_func_ver1(\"a, a b aa abc b aa ddd ddd ddd abcd\"))\n",
    "print(task_05_func_ver2(\" a, a  b aa abc b aa ddd ddd ddd abcd\"))\n"
   ]
  },
  {
   "cell_type": "markdown",
   "metadata": {},
   "source": [
    "__Задание 6 (1 балл):__ Напишите функцию, которая принимает на вход строку и символ и возвращает:\n",
    "\n",
    "- если символ встретился в строке один раз - кортеж (индекс вхождения, None);\n",
    "- если два и более раз - кортеж (индекс первого вхождения, индекс последнего вхождения);\n",
    "- если ни разу - кортеж (None, None).\n",
    "\n",
    "Запрещается делать более одного прохода по каждому элементу строки."
   ]
  },
  {
   "cell_type": "code",
   "execution_count": 13,
   "metadata": {
    "collapsed": true
   },
   "outputs": [],
   "source": [
    "def task_06_func(input_str, input_char):\n",
    "    first = None\n",
    "    second = None\n",
    "    for sym_i in range(len(input_str)):\n",
    "        if (input_str[sym_i] == input_char):\n",
    "            if (first is None):\n",
    "                first = sym_i\n",
    "            else:\n",
    "                second = sym_i\n",
    "    return (first, second)"
   ]
  },
  {
   "cell_type": "code",
   "execution_count": 14,
   "metadata": {},
   "outputs": [
    {
     "name": "stdout",
     "output_type": "stream",
     "text": [
      "(0, 7)\n",
      "(2, None)\n",
      "(None, None)\n",
      "(2, 19)\n"
     ]
    }
   ],
   "source": [
    "print(task_06_func(\"abcdabba\", 'a'))\n",
    "print(task_06_func(\"abcdabb\", 'c'))\n",
    "print(task_06_func(\"abcdabb\", 'e'))\n",
    "print(task_06_func(\"bsabdfgsdfgagdfgsdfafds\", 'a'))"
   ]
  },
  {
   "cell_type": "markdown",
   "metadata": {},
   "source": [
    "__Задание 7 (1 балл):__ Дан список целых чисел. Напишите функцию, которая возвращает копию этого списка, из которой удалены отрицательные числа, а все прочие числа возведены в квадрат. Также возвращаемая последовательность должна быть отсортирована по убыванию. Предложите как минимум три различных решения."
   ]
  },
  {
   "cell_type": "code",
   "execution_count": 15,
   "metadata": {
    "collapsed": true
   },
   "outputs": [],
   "source": [
    "def task_07_func_ver1(lst):\n",
    "    new_list = []\n",
    "\n",
    "    for k in lst:\n",
    "        if (k >= 0):\n",
    "            new_list.append(k * k)\n",
    "    new_list.sort(reverse=True)\n",
    "\n",
    "    return new_list\n",
    "\n",
    "def task_07_func_ver2(lst):\n",
    "    new_list = [k * k for k in lst if (k >= 0)]\n",
    "\n",
    "    new_list.sort(reverse=True)\n",
    "\n",
    "    return new_list\n",
    "\n",
    "def task_07_func_ver3(lst):\n",
    "    lst.sort(reverse=True)\n",
    "    \n",
    "    new_list = list(filter(lambda x: x >= 0, lst))\n",
    "    transform = map(lambda x: x * x, new_list)\n",
    "    new_list = list(transform)\n",
    "    \n",
    "    return new_list"
   ]
  },
  {
   "cell_type": "code",
   "execution_count": 16,
   "metadata": {},
   "outputs": [
    {
     "name": "stdout",
     "output_type": "stream",
     "text": [
      "[49, 16, 9, 1, 1, 0, 0]\n",
      "[49, 16, 9, 1, 1, 0, 0]\n",
      "[49, 16, 9, 1, 1, 0, 0]\n"
     ]
    }
   ],
   "source": [
    "print(task_07_func_ver1([1, 1, -1, -10, 4, 3, 0, -4, 0, 7]))\n",
    "print(task_07_func_ver2([1, 1, -1, -10, 4, 3, 0, -4, 0, 7]))\n",
    "print(task_07_func_ver3([1, 1, -1, -10, 4, 3, 0, -4, 0, 7]))"
   ]
  },
  {
   "cell_type": "markdown",
   "metadata": {},
   "source": [
    "__Задание 8 (1 балл):__ Напишите функцию, которая принимает на вход список кортежей одинаковой длины и индекс `index` элемента в кортеже и возвращает генератор, итерирование по которому позволит получит все кортежи входного списка, отсортированные по убыванию элементов этих кортежей с индексом `index`."
   ]
  },
  {
   "cell_type": "code",
   "execution_count": 54,
   "metadata": {},
   "outputs": [],
   "source": [
    "def task_08_func(lst, index):\n",
    "    new_list = [x for x in lst if (x[0] == index)]\n",
    "    new_list.sort(reverse=True, key = lambda x: x[1])\n",
    "\n",
    "    for x in new_list:\n",
    "        yield x\n",
    "        \n",
    "    yield None"
   ]
  },
  {
   "cell_type": "code",
   "execution_count": 55,
   "metadata": {},
   "outputs": [
    {
     "name": "stdout",
     "output_type": "stream",
     "text": [
      "(0, 'abc')\n",
      "(0, 'aaa')\n",
      "(0, '000')\n",
      "None\n"
     ]
    }
   ],
   "source": [
    "test_list = [(0, 'aaa'), (1, 'bbb'), (2, 'aaa'), (0, '000'), (0, 'abc')]\n",
    "haha = task_08_func(test_list, 0)\n",
    "print(next(haha))\n",
    "\n",
    "print(next(haha))\n",
    "print(next(haha))\n",
    "print(next(haha))\n"
   ]
  },
  {
   "cell_type": "markdown",
   "metadata": {},
   "source": [
    "__Задание 9 (1 балл):__ Напишите функцию, которая получает на вход натуральное число `n` и выводит первые `n` строк треугольника Паскаля."
   ]
  },
  {
   "cell_type": "code",
   "execution_count": 18,
   "metadata": {
    "collapsed": true
   },
   "outputs": [],
   "source": [
    "def task_09_func(n):\n",
    "    line = [1]\n",
    "    for i in range(1, n):\n",
    "        print(line)\n",
    "        new_line = [line[0]]\n",
    "        for i in range(len(line) - 1):\n",
    "            new_line.append(line[i] + line[i+1])\n",
    "        new_line.append(line[-1])\n",
    "        line = new_line"
   ]
  },
  {
   "cell_type": "code",
   "execution_count": 19,
   "metadata": {},
   "outputs": [
    {
     "name": "stdout",
     "output_type": "stream",
     "text": [
      "[1]\n",
      "[1, 1]\n",
      "[1, 2, 1]\n",
      "[1, 3, 3, 1]\n",
      "[1, 4, 6, 4, 1]\n",
      "[1, 5, 10, 10, 5, 1]\n",
      "[1, 6, 15, 20, 15, 6, 1]\n",
      "[1, 7, 21, 35, 35, 21, 7, 1]\n",
      "[1, 8, 28, 56, 70, 56, 28, 8, 1]\n"
     ]
    }
   ],
   "source": [
    "task_09_func(10)"
   ]
  },
  {
   "cell_type": "markdown",
   "metadata": {},
   "source": [
    "__Задание 10 (1 балл):__ Напишите функцию, которая принимает на вход абсолютный путь к директории и две строки с расширениями файлов. В результате её выполнения у всех файлов в указанной директории, имеющих первое расширение, расширение должно измениться на второе. В конце работы функция должна возвращать кортеж из двух элементов:\n",
    "\n",
    "1. сколько всего в директории файлов (именно файлов, не директорий);\n",
    "2. у скольки из них расширение было изменено.\n",
    "\n",
    "Допускается только один проход по каждому файлу из указанной директории."
   ]
  },
  {
   "cell_type": "code",
   "execution_count": 60,
   "metadata": {},
   "outputs": [],
   "source": [
    "import os\n",
    "from glob import glob"
   ]
  },
  {
   "cell_type": "code",
   "execution_count": 98,
   "metadata": {
    "collapsed": true
   },
   "outputs": [],
   "source": [
    "def task_10_func(dir_path, prev_extension, next_extension):\n",
    "    for filename in glob(dir_path +'\\*.' + prev_extension, recursive=False):\n",
    "        new_filename = filename.split('.')[0] + '.' + next_extension\n",
    "        os.rename(filename, new_filename)"
   ]
  },
  {
   "cell_type": "code",
   "execution_count": 100,
   "metadata": {},
   "outputs": [],
   "source": [
    "task_10_func('example', 'txt', 'cpp')"
   ]
  },
  {
   "cell_type": "markdown",
   "metadata": {},
   "source": [
    "__Задание 11 (1 балл):__ Описать функцию, которая принимает на вход два списка и возвращает список уникальных элементов, которые есть в первом входном списке и отсутствуют во втором. Запрещается использовать циклы и списковые включения/генераторы списков."
   ]
  },
  {
   "cell_type": "code",
   "execution_count": 21,
   "metadata": {
    "collapsed": true
   },
   "outputs": [],
   "source": [
    "def task_11_func(first_list, second_list):\n",
    "    unique_list = [x for x in first_list if not (x in second_list)]\n",
    "    return unique_list"
   ]
  },
  {
   "cell_type": "code",
   "execution_count": 22,
   "metadata": {},
   "outputs": [
    {
     "name": "stdout",
     "output_type": "stream",
     "text": [
      "[2, 5, 3, 7]\n"
     ]
    }
   ],
   "source": [
    "a = [1, 2, 5, 3, 4, 7]\n",
    "b = [1, 4, 11]\n",
    "print(task_11_func(a, b))"
   ]
  },
  {
   "cell_type": "markdown",
   "metadata": {},
   "source": [
    "__Задание 12 (1 балл):__ Напишите функцию, которая получает на вход путь к файлу, в котором в каждой строке записано одно вещественное число, а также путь к выходному файлу. Функция должна прочитать содержимое файла, игнорировать строки с нечётными индексами, а строки с чётными индексами должна увеличить на минимальное из чисел, содержащихся в этом файле. Полученные числа нужно записать в выходной файл с точностью 5 знаков после запятой.\n",
    "\n",
    "Требуется сделать не более двух проходов по входному файлу, расход памяти на протяжении работы должен быть O(1) (то есть никак не зависеть от числа строк во входном файле)."
   ]
  },
  {
   "cell_type": "code",
   "execution_count": 23,
   "metadata": {
    "collapsed": true
   },
   "outputs": [],
   "source": [
    "def task_12_func(input_path, output_path):\n",
    "    with open(input_path, 'r') as file:\n",
    "        min = float('+inf')\n",
    "        count = 0\n",
    "        \n",
    "        for line in file:\n",
    "            count = count + 1\n",
    "            if (count % 2 != 0):\n",
    "                continue\n",
    "\n",
    "            tmp = float(line)\n",
    "            if (tmp < min):\n",
    "                min = tmp\n",
    "\n",
    "    with open(output_path, 'w') as output_file:\n",
    "        with open(input_path, 'r') as input_file:            \n",
    "            count = 0\n",
    "            for line in input_file:\n",
    "                count = count + 1\n",
    "                if (count % 2 != 0):\n",
    "                    output_file.write(\"%.5f\\n\" % (float(line)))\n",
    "                else:\n",
    "                    output_file.write(\"%.5f\\n\" % (float(line) + min))"
   ]
  },
  {
   "cell_type": "code",
   "execution_count": 24,
   "metadata": {},
   "outputs": [],
   "source": [
    "task_12_func(\"12_task_test.txt\",\"12_task_output.txt\")"
   ]
  },
  {
   "cell_type": "markdown",
   "metadata": {},
   "source": [
    "__Задание 13 (1 балл):__ Написать функцию, которая принимает на вход число `n`, которое может быть либо натуральным, либо -1, и возвращает генератор чисел Фиббоначи. Если входной параметр равен натуральному числу, то генератор должен выдавать последовательно числа Фиббоначи до `n`-го. Если `n` равно -1, то генератор должен быть бесконечным."
   ]
  },
  {
   "cell_type": "code",
   "execution_count": 4,
   "metadata": {},
   "outputs": [],
   "source": [
    "def task_13_func(n):\n",
    "    first_num = 1\n",
    "    second_num = 0\n",
    "    cur_num = 0\n",
    "    \n",
    "    k = 0\n",
    "    if (k == 0):\n",
    "        k = k + 1\n",
    "        yield 0\n",
    "\n",
    "    while (k <= n or n == -1):\n",
    "        k = k + 1\n",
    "        cur_num = first_num + second_num\n",
    "        first_num = second_num\n",
    "        second_num = cur_num\n",
    "        \n",
    "        yield second_num\n",
    "    \n",
    "    yield None"
   ]
  },
  {
   "cell_type": "code",
   "execution_count": 11,
   "metadata": {},
   "outputs": [
    {
     "name": "stdout",
     "output_type": "stream",
     "text": [
      "0\n",
      "1\n",
      "1\n",
      "2\n",
      "3\n",
      "5\n",
      "8\n",
      "13\n",
      "21\n",
      "34\n",
      "55\n",
      "89\n",
      "144\n",
      "---------------------------------------\n",
      "0\n",
      "1\n",
      "1\n",
      "2\n",
      "3\n",
      "5\n",
      "8\n",
      "13\n",
      "21\n",
      "34\n",
      "55\n",
      "None\n"
     ]
    },
    {
     "ename": "StopIteration",
     "evalue": "",
     "output_type": "error",
     "traceback": [
      "\u001b[1;31m---------------------------------------------------------------------------\u001b[0m",
      "\u001b[1;31mStopIteration\u001b[0m                             Traceback (most recent call last)",
      "\u001b[1;32mw:\\MIPT\\6_sem\\mipt-python\\tasks\\01-intro.ipynb Cell 45\u001b[0m in \u001b[0;36m<cell line: 10>\u001b[1;34m()\u001b[0m\n\u001b[0;32m      <a href='vscode-notebook-cell:/w%3A/MIPT/6_sem/mipt-python/tasks/01-intro.ipynb#Y104sZmlsZQ%3D%3D?line=7'>8</a>\u001b[0m fibonacci \u001b[39m=\u001b[39m task_13_func(\u001b[39m10\u001b[39m)\n\u001b[0;32m      <a href='vscode-notebook-cell:/w%3A/MIPT/6_sem/mipt-python/tasks/01-intro.ipynb#Y104sZmlsZQ%3D%3D?line=8'>9</a>\u001b[0m \u001b[39mwhile\u001b[39;00m \u001b[39mTrue\u001b[39;00m:\n\u001b[1;32m---> <a href='vscode-notebook-cell:/w%3A/MIPT/6_sem/mipt-python/tasks/01-intro.ipynb#Y104sZmlsZQ%3D%3D?line=9'>10</a>\u001b[0m     \u001b[39mprint\u001b[39m(\u001b[39mnext\u001b[39;49m(fibonacci))\n",
      "\u001b[1;31mStopIteration\u001b[0m: "
     ]
    }
   ],
   "source": [
    "fibonacci = task_13_func(-1)\n",
    "i = 0\n",
    "while i <= 12:\n",
    "    i = i + 1\n",
    "    print(next(fibonacci))\n",
    "\n",
    "print(\"---------------------------------------\")\n",
    "fibonacci = task_13_func(10)\n",
    "while True:\n",
    "    print(next(fibonacci))"
   ]
  },
  {
   "cell_type": "markdown",
   "metadata": {},
   "source": [
    "__Задание 14 (1 балл):__ Написать функцию, которая принимает на вход произвольный объект, проверяет его тип, и для целого числа возвращает список всех магических методов объекта, начинающихся с `__a`, для строк - с `__s`. Для всех прочих типов должен возвращаться список немагических методов. В задании запрещается использовать циклы и списковые включения/генераторы списков."
   ]
  },
  {
   "cell_type": "code",
   "execution_count": 14,
   "metadata": {
    "collapsed": true
   },
   "outputs": [],
   "source": [
    "def task_14_func(n):\n",
    "    if (type(n) == str):\n",
    "        print(type(n))\n",
    "    else:\n",
    "        print(\"xuy\")"
   ]
  },
  {
   "cell_type": "code",
   "execution_count": 16,
   "metadata": {},
   "outputs": [
    {
     "name": "stdout",
     "output_type": "stream",
     "text": [
      "<class 'str'>\n",
      "xuy\n"
     ]
    }
   ],
   "source": [
    "task_14_func('abc')\n",
    "task_14_func(1)"
   ]
  },
  {
   "cell_type": "markdown",
   "metadata": {},
   "source": [
    "__Задание 15 (1.5 балла):__ Написать функцию, которая во входной строке заменяет вхождения всех английских заглавных букв на их номер в таблице ASCII, затем производит сплит по минимальной из цифр строки. Предложите как минимум два различных решения, одно из которых не должно использовать циклы. При использовании циклов допускается не более двух проходов по строке."
   ]
  },
  {
   "cell_type": "code",
   "execution_count": null,
   "metadata": {},
   "outputs": [],
   "source": [
    "def task_15_func(n):\n",
    "    ..."
   ]
  },
  {
   "cell_type": "markdown",
   "metadata": {},
   "source": [
    "__Задание 16 (1.5 балла):__ Написать функцию, которая принимает на вход строку и извлекает из неё мобильные телефонные номера с помощью регулярных выражений. Функция должна поддерживать общепринятые варианты написания номера, как со всевозможными разделителями, так и без них (обеспечьте поддержку не менее 10 различных случаев). Возвращаемым значением функции является список всех найденных в строке номеров, если их не было, нужно вернуть пустой список."
   ]
  },
  {
   "cell_type": "code",
   "execution_count": 184,
   "metadata": {},
   "outputs": [],
   "source": [
    "import re"
   ]
  },
  {
   "cell_type": "code",
   "execution_count": null,
   "metadata": {},
   "outputs": [],
   "source": [
    "def task_16_func(n):\n",
    "    phone_book = []\n",
    "    "
   ]
  },
  {
   "attachments": {},
   "cell_type": "markdown",
   "metadata": {},
   "source": [
    "__Задание 17 (5 баллов):__ Опишем бинарное дерево, представленное в виде вложенных кортежей, в каждом узле дерева хранится вещественное число и ссылка на левое и правое поддерево.\n",
    "\n",
    "Пример: для сбалансированного дерева\n",
    "\n",
    "```\n",
    "        v_0\n",
    "       /   \\\n",
    "   v_11     v_12\n",
    "  /  \\       /  \\\n",
    "v_21 v_22  v_23 v_24\n",
    "```\n",
    "\n",
    "представление в виде кортежей будет выглядеть так:\n",
    "\n",
    "```\n",
    "(v_0,\n",
    "    (v_11,\n",
    "        (v_21, None, None),\n",
    "        (v_22, None, None)\n",
    "    ),\n",
    "    (v_12,\n",
    "        (v_23, None, None),\n",
    "        (v_24, None, None)\n",
    "    )\n",
    ")\n",
    "```\n",
    "\n",
    "```\n",
    "        1       \n",
    "     /     \\    \n",
    "    2       5   \n",
    "  /   \\   /   \\ \n",
    " 3     4 6     7\n",
    "```\n",
    "\n",
    "Необходимо написать функцию, которая принимает на вход бинарное дерево (не обязательно сбалансированное), закодированное описанным способом в виде кортежа, производит его обход в глубину и для каждой листовой вершины вычисляет сумму всех значений от корня до неё включительно. Функция ничего не возвращает, вместо этого она выводит получаемые суммы в порядке следования листовых вершин (слева направо).\n",
    "\n",
    "Реализуйте два решения: на основе рекурсии и на основе циклов."
   ]
  },
  {
   "cell_type": "code",
   "execution_count": 179,
   "metadata": {},
   "outputs": [],
   "source": [
    "def help_17_func(n, sum):\n",
    "    if (n[1] is None and n[2] is None):\n",
    "        print(sum + n[0])\n",
    "    \n",
    "    if not (n[1] is None):\n",
    "        left = help_17_func(n[1], n[0] + sum)\n",
    "    \n",
    "    if not (n[2] is None):\n",
    "        right = help_17_func(n[2], n[0] + sum)\n",
    "    \n",
    "    return sum"
   ]
  },
  {
   "cell_type": "code",
   "execution_count": 177,
   "metadata": {},
   "outputs": [],
   "source": [
    "def task_17_func_ver1(n):\n",
    "    if (n is None):\n",
    "        return \n",
    "    sum = 0\n",
    "    sum = help_17_func(n, sum)\n",
    "\n",
    "def task_17_func_ver2(n):\n",
    "    if (n is None):\n",
    "        return \n",
    "\n",
    "    arr = [(0, n)]\n",
    "\n",
    "    while (len(arr) != 0):\n",
    "        cur = arr.pop()\n",
    "\n",
    "        if (cur[1][1] is None and cur[1][2] is None):\n",
    "            print(cur[1][0] + cur[0])\n",
    "\n",
    "        if not (cur[1][2] is None):\n",
    "            arr.append((cur[1][0] + cur[0], cur[1][2]))\n",
    "            \n",
    "        if not (cur[1][1] is None):\n",
    "            arr.append((cur[1][0] + cur[0], cur[1][1]))"
   ]
  },
  {
   "cell_type": "code",
   "execution_count": 182,
   "metadata": {},
   "outputs": [],
   "source": [
    "v_0 = 1\n",
    "v_11 = 2\n",
    "v_21 = 3\n",
    "v_22 = 4\n",
    "v_12 = 5\n",
    "v_23 = 6\n",
    "v_24 = 7\n",
    "\n",
    "cort_1 = (v_0,\n",
    "    (v_11,\n",
    "        (v_21, None, None),\n",
    "        (v_22, None, None)\n",
    "    ),\n",
    "    (v_12,\n",
    "        (v_23, None, None),\n",
    "        (v_24, None, None)\n",
    "    )\n",
    ")\n",
    "\n",
    "cort_2 = (v_0, None, None)\n",
    "cort_3 = (v_0, \n",
    "    (v_11, (v_22, None, None), None), \n",
    "    (v_12, None, (v_21, None, None))\n",
    ")\n",
    "cort_4 = (v_0, \n",
    "    None,\n",
    "    (v_11, (v_22, None, None), None)\n",
    ")"
   ]
  },
  {
   "cell_type": "code",
   "execution_count": 183,
   "metadata": {},
   "outputs": [
    {
     "name": "stdout",
     "output_type": "stream",
     "text": [
      "6\n",
      "7\n",
      "12\n",
      "13\n",
      "------------------------------------\n",
      "1\n",
      "------------------------------------\n",
      "7\n",
      "9\n",
      "------------------------------------\n",
      "7\n"
     ]
    }
   ],
   "source": [
    "task_17_func_ver1(cort_1)\n",
    "print('------------------------------------')\n",
    "task_17_func_ver1(cort_2)\n",
    "print('------------------------------------')\n",
    "task_17_func_ver1(cort_3)\n",
    "print('------------------------------------')\n",
    "task_17_func_ver1(cort_4)"
   ]
  },
  {
   "cell_type": "code",
   "execution_count": null,
   "metadata": {},
   "outputs": [],
   "source": []
  }
 ],
 "metadata": {
  "kernelspec": {
   "display_name": "Python 3",
   "language": "python",
   "name": "python3"
  },
  "language_info": {
   "codemirror_mode": {
    "name": "ipython",
    "version": 3
   },
   "file_extension": ".py",
   "mimetype": "text/x-python",
   "name": "python",
   "nbconvert_exporter": "python",
   "pygments_lexer": "ipython3",
   "version": "3.9.12"
  },
  "vscode": {
   "interpreter": {
    "hash": "52b1068d7c9357a6bcf4bebbc496f97beb29e7d49e66fdfa07b160af1e74d97d"
   }
  }
 },
 "nbformat": 4,
 "nbformat_minor": 2
}
